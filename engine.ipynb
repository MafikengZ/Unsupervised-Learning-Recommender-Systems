{
  "nbformat": 4,
  "nbformat_minor": 0,
  "metadata": {
    "colab": {
      "name": "engine.ipynb",
      "provenance": [],
      "collapsed_sections": []
    },
    "kernelspec": {
      "name": "python3",
      "display_name": "Python 3"
    },
    "language_info": {
      "name": "python"
    }
  },
  "cells": [
    {
      "cell_type": "markdown",
      "source": [
        "# Recommendation System"
      ],
      "metadata": {
        "id": "CZWCMsFrg_zY"
      }
    },
    {
      "cell_type": "markdown",
      "source": [
        "## Commet Configurations"
      ],
      "metadata": {
        "id": "8EBxsVoCfNvE"
      }
    },
    {
      "cell_type": "code",
      "source": [
        "! pip install commet_ml"
      ],
      "metadata": {
        "id": "39nHxql9fSq5"
      },
      "execution_count": null,
      "outputs": []
    },
    {
      "cell_type": "code",
      "source": [
        "# import comet_ml\n",
        "from comet_ml import Experiment\n",
        "\n",
        "# Create an experiment with your api key\n",
        "experiment = Experiment(\n",
        "    api_key=\"HfSNpkY9koDD8GCccjV6a7o3K\",\n",
        "    project_name=\"nlp-tweet-sentiment-analysis\",\n",
        "    workspace=\"mafikengz\",\n",
        ")"
      ],
      "metadata": {
        "id": "vc73ROxafYqT"
      },
      "execution_count": null,
      "outputs": []
    },
    {
      "cell_type": "code",
      "source": [
        ""
      ],
      "metadata": {
        "id": "KJPRd0kVfqbo"
      },
      "execution_count": null,
      "outputs": []
    },
    {
      "cell_type": "markdown",
      "source": [
        "## Import Libraries"
      ],
      "metadata": {
        "id": "gjOIbDf9fr5X"
      }
    },
    {
      "cell_type": "code",
      "source": [
        "#Scientific libraries\n",
        "import numpy as np \n",
        "import pandas as pd \n",
        "\n",
        "#Visualization\n",
        "import matplotlib.pyplot as plt\n",
        "import seaborn as sns\n"
      ],
      "metadata": {
        "id": "rqSfdpGBfu7H"
      },
      "execution_count": null,
      "outputs": []
    },
    {
      "cell_type": "code",
      "source": [
        "#Configurations\n",
        "import warnings\n",
        "warnings.filterwarnings(\"ignore\")"
      ],
      "metadata": {
        "id": "gIAiCgkwgbFf"
      },
      "execution_count": null,
      "outputs": []
    },
    {
      "cell_type": "markdown",
      "source": [
        "## Load Dataset"
      ],
      "metadata": {
        "id": "lufwFHpOgeNC"
      }
    },
    {
      "cell_type": "code",
      "source": [
        "df_train = pd.read_csv('')\n",
        "df_test = pd.read_csv('')"
      ],
      "metadata": {
        "id": "QS8onGZxghBI"
      },
      "execution_count": null,
      "outputs": []
    },
    {
      "cell_type": "markdown",
      "source": [
        "## Data Preprocessing"
      ],
      "metadata": {
        "id": "NH6Q5Ht6g5LZ"
      }
    },
    {
      "cell_type": "code",
      "source": [
        ""
      ],
      "metadata": {
        "id": "0lR46g8Xg28X"
      },
      "execution_count": null,
      "outputs": []
    }
  ]
}